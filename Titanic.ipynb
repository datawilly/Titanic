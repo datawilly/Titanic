{
  "nbformat": 4,
  "nbformat_minor": 0,
  "metadata": {
    "colab": {
      "provenance": [],
      "mount_file_id": "1WHhYPDeK2vVJzh1WJpdMH_r2IikqtaPX",
      "authorship_tag": "ABX9TyMFq8V3/ax14hr0Pv9dcHyQ",
      "include_colab_link": true
    },
    "kernelspec": {
      "name": "python3",
      "display_name": "Python 3"
    },
    "language_info": {
      "name": "python"
    }
  },
  "cells": [
    {
      "cell_type": "markdown",
      "metadata": {
        "id": "view-in-github",
        "colab_type": "text"
      },
      "source": [
        "<a href=\"https://colab.research.google.com/github/datawilly/Titanic/blob/main/Titanic.ipynb\" target=\"_parent\"><img src=\"https://colab.research.google.com/assets/colab-badge.svg\" alt=\"Open In Colab\"/></a>"
      ]
    },
    {
      "cell_type": "code",
      "metadata": {
        "id": "fPuXY5Vz2XWY"
      },
      "source": [
        "import pandas as pd\n",
        "import numpy as np\n",
        "import matplotlib.pyplot as plt\n",
        "import seaborn as sns"
      ],
      "execution_count": null,
      "outputs": []
    },
    {
      "cell_type": "code",
      "metadata": {
        "id": "CZK7zF2K-5cX"
      },
      "source": [
        "df_train = pd.read_csv('/content/drive/MyDrive/Datasets/Titanic/train.csv')\n",
        "df_test = pd.read_csv('/content/drive/MyDrive/Datasets/Titanic/test.csv')"
      ],
      "execution_count": null,
      "outputs": []
    },
    {
      "cell_type": "code",
      "metadata": {
        "colab": {
          "base_uri": "https://localhost:8080/"
        },
        "id": "H-ndDMy3-59d",
        "outputId": "87c96dbe-77ca-42aa-efae-f20bddb5c1d4"
      },
      "source": [
        "df_train.info()"
      ],
      "execution_count": null,
      "outputs": [
        {
          "output_type": "stream",
          "text": [
            "<class 'pandas.core.frame.DataFrame'>\n",
            "RangeIndex: 891 entries, 0 to 890\n",
            "Data columns (total 12 columns):\n",
            " #   Column       Non-Null Count  Dtype  \n",
            "---  ------       --------------  -----  \n",
            " 0   PassengerId  891 non-null    int64  \n",
            " 1   Survived     891 non-null    int64  \n",
            " 2   Pclass       891 non-null    int64  \n",
            " 3   Name         891 non-null    object \n",
            " 4   Sex          891 non-null    object \n",
            " 5   Age          714 non-null    float64\n",
            " 6   SibSp        891 non-null    int64  \n",
            " 7   Parch        891 non-null    int64  \n",
            " 8   Ticket       891 non-null    object \n",
            " 9   Fare         891 non-null    float64\n",
            " 10  Cabin        204 non-null    object \n",
            " 11  Embarked     889 non-null    object \n",
            "dtypes: float64(2), int64(5), object(5)\n",
            "memory usage: 83.7+ KB\n"
          ],
          "name": "stdout"
        }
      ]
    },
    {
      "cell_type": "code",
      "metadata": {
        "colab": {
          "base_uri": "https://localhost:8080/"
        },
        "id": "7sDhwnrW-6Fv",
        "outputId": "8eecde62-ecbe-4934-e66a-3b1b175530c5"
      },
      "source": [
        "df_test.info()"
      ],
      "execution_count": null,
      "outputs": [
        {
          "output_type": "stream",
          "text": [
            "<class 'pandas.core.frame.DataFrame'>\n",
            "RangeIndex: 418 entries, 0 to 417\n",
            "Data columns (total 11 columns):\n",
            " #   Column       Non-Null Count  Dtype  \n",
            "---  ------       --------------  -----  \n",
            " 0   PassengerId  418 non-null    int64  \n",
            " 1   Pclass       418 non-null    int64  \n",
            " 2   Name         418 non-null    object \n",
            " 3   Sex          418 non-null    object \n",
            " 4   Age          332 non-null    float64\n",
            " 5   SibSp        418 non-null    int64  \n",
            " 6   Parch        418 non-null    int64  \n",
            " 7   Ticket       418 non-null    object \n",
            " 8   Fare         417 non-null    float64\n",
            " 9   Cabin        91 non-null     object \n",
            " 10  Embarked     418 non-null    object \n",
            "dtypes: float64(2), int64(4), object(5)\n",
            "memory usage: 36.0+ KB\n"
          ],
          "name": "stdout"
        }
      ]
    },
    {
      "cell_type": "code",
      "metadata": {
        "colab": {
          "base_uri": "https://localhost:8080/",
          "height": 296
        },
        "id": "Upm-qQ_--6Ob",
        "outputId": "5f41d884-7cc8-4216-8140-b5b5795d24ea"
      },
      "source": [
        "sns.barplot(x='Embarked',y='Survived',hue='Sex',data=df_train)"
      ],
      "execution_count": null,
      "outputs": [
        {
          "output_type": "execute_result",
          "data": {
            "text/plain": [
              "<matplotlib.axes._subplots.AxesSubplot at 0x7fdaf80a7290>"
            ]
          },
          "metadata": {
            "tags": []
          },
          "execution_count": 5
        },
        {
          "output_type": "display_data",
          "data": {
            "image/png": "[encoded data removed]",
            "text/plain": [
              "<Figure size 432x288 with 1 Axes>"
            ]
          },
          "metadata": {
            "tags": [],
            "needs_background": "light"
          }
        }
      ]
    },
    {
      "cell_type": "code",
      "metadata": {
        "id": "2Q_bgxNw-6aE"
      },
      "source": [
        "def ages(df):\n",
        "  df.Age = df.Age.fillna(-0.5)\n",
        "  bins = (-1,0,5,12,18,25,35,60,120)\n",
        "  group_names = ['Desconocido','Bebé','Niño','Adolescente','Estudiante','Joven Adulto','Adulto','Mayor']\n",
        "  categories = pd.cut(df.Age,bins=bins,labels=group_names)\n",
        "  df.Age = categories\n",
        "  return df\n",
        "\n",
        "def cabins(df):\n",
        "  df.Cabin = df.Cabin.fillna('N')\n",
        "  df.Cabin = df.Cabin.apply(lambda x: x[0])\n",
        "  return df\n",
        "\n",
        "def fare(df):\n",
        "  df.Fare = df.Fare.fillna(-0.5)\n",
        "  bins = (-1,0,8,15,31,1000)\n",
        "  group_names = ['Desconocido','1 Cuartil','2 Cuartil','3 Cuartil','4 Cuartil',]\n",
        "  categories = pd.cut(df.Fare,bins=bins,labels=group_names)\n",
        "  df.Fare = categories\n",
        "  return df\n",
        "\n",
        "def name(df):\n",
        "  df['Last_name'] = df.Name.apply(lambda x: x.split(' ')[0])\n",
        "  df['Prefix'] = df.Name.apply(lambda x: x.split(' ')[1])\n",
        "  return df\n",
        "\n",
        "def drop(df):\n",
        "  return df.drop(['Name','Ticket','Embarked'],inplace=True,axis=1)\n",
        "\n",
        "def transform_features(df):\n",
        "  df = ages(df)\n",
        "  df = cabins(df)\n",
        "  df = fare(df)\n",
        "  df = name(df)\n",
        "  df = drop(df)\n",
        "  return df\n",
        "\n",
        "transform_features(df_train)\n",
        "transform_features(df_test)"
      ],
      "execution_count": null,
      "outputs": []
    },
    {
      "cell_type": "code",
      "metadata": {
        "id": "DuoK03TH-7Sx",
        "colab": {
          "base_uri": "https://localhost:8080/"
        },
        "outputId": "995f82e7-7d6e-42f4-fab8-fd5064caf7b5"
      },
      "source": [
        "from sklearn import preprocessing\n",
        "\n",
        "def encode_features(data_train,data_test):\n",
        "  features = ['Sex','Age','Fare','Cabin','Last_name','Prefix']\n",
        "  df_combined = pd.concat([data_train[features],data_test[features]])\n",
        "\n",
        "  for feature in features:\n",
        "    le = preprocessing.LabelEncoder()\n",
        "    le = le.fit(df_combined[feature])\n",
        "    df_train[feature] = le.transform(df_train[feature])\n",
        "    df_test[feature] = le.transform(df_test[feature])\n",
        "  return df_train, df_test\n",
        "\n",
        "encode_features(df_train,df_test)"
      ],
      "execution_count": null,
      "outputs": [
        {
          "output_type": "execute_result",
          "data": {
            "text/plain": [
              "(     PassengerId  Survived  Pclass  Sex  ...  Fare  Cabin  Last_name  Prefix\n",
              " 0              1         0       3    1  ...     0      7        100      19\n",
              " 1              2         1       1    0  ...     3      2        182      20\n",
              " 2              3         1       3    0  ...     0      7        329      16\n",
              " 3              4         1       1    0  ...     3      2        267      20\n",
              " 4              5         0       3    1  ...     1      7         15      19\n",
              " ..           ...       ...     ...  ...  ...   ...    ...        ...     ...\n",
              " 886          887         0       2    1  ...     1      7        535      26\n",
              " 887          888         1       1    0  ...     2      1        294      16\n",
              " 888          889         0       3    0  ...     2      7        383      16\n",
              " 889          890         1       1    1  ...     2      2         69      19\n",
              " 890          891         0       3    1  ...     0      7        214      19\n",
              " \n",
              " [891 rows x 11 columns],\n",
              "      PassengerId  Pclass  Sex  Age  ...  Fare  Cabin  Last_name  Prefix\n",
              " 0            892       3    1    5  ...     0      7        401      19\n",
              " 1            893       3    0    1  ...     0      7        843      20\n",
              " 2            894       2    1    6  ...     1      7        552      19\n",
              " 3            895       3    1    5  ...     1      7        851      19\n",
              " 4            896       3    0    4  ...     1      7        342      20\n",
              " ..           ...     ...  ...  ...  ...   ...    ...        ...     ...\n",
              " 413         1305       3    1    3  ...     1      7        753      19\n",
              " 414         1306       1    0    1  ...     3      2        593      33\n",
              " 415         1307       3    1    1  ...     0      7        699      19\n",
              " 416         1308       3    1    3  ...     1      7        824      19\n",
              " 417         1309       3    1    3  ...     2      7        634      13\n",
              " \n",
              " [418 rows x 10 columns])"
            ]
          },
          "metadata": {
            "tags": []
          },
          "execution_count": 7
        }
      ]
    },
    {
      "cell_type": "code",
      "metadata": {
        "id": "W_ddqoOv-7hu"
      },
      "source": [
        "from sklearn.model_selection import train_test_split\n",
        "\n",
        "X_all = df_train.drop(['Survived','PassengerId'],axis=1)\n",
        "y_all = df_train['Survived']\n",
        "\n",
        "num_test = 0.2\n",
        "x_train,x_test,y_train,y_test = train_test_split(X_all,y_all,random_state = 23, test_size=num_test)"
      ],
      "execution_count": null,
      "outputs": []
    },
    {
      "cell_type": "code",
      "metadata": {
        "id": "e6ciuUQs-7m8"
      },
      "source": [
        "from sklearn.ensemble import RandomForestClassifier\n",
        "from sklearn.metrics import make_scorer, accuracy_score\n",
        "from sklearn.model_selection import GridSearchCV\n"
      ],
      "execution_count": null,
      "outputs": []
    },
    {
      "cell_type": "code",
      "metadata": {
        "id": "QQ85AQ3m-7sG"
      },
      "source": [
        "clf = RandomForestClassifier()"
      ],
      "execution_count": null,
      "outputs": []
    },
    {
      "cell_type": "code",
      "metadata": {
        "id": "hMvz3BwZQVaY"
      },
      "source": [
        "parameters = {'n_estimators': [4,6,9],\n",
        "              'max_features': ['log2','sqrt','auto'],\n",
        "              'criterion': ['entropy','gini'],\n",
        "              'max_depth': [2,3,5,10],\n",
        "              'min_samples_split': [2,3,5],\n",
        "              'min_samples_leaf': [1,5,8]\n",
        "}"
      ],
      "execution_count": null,
      "outputs": []
    },
    {
      "cell_type": "code",
      "metadata": {
        "id": "PiBIyjAaQVgY"
      },
      "source": [
        "acc_scorer = make_scorer(accuracy_score)"
      ],
      "execution_count": null,
      "outputs": []
    },
    {
      "cell_type": "code",
      "metadata": {
        "id": "Sqw9o27oQVkl"
      },
      "source": [
        "grid_obj = GridSearchCV(clf,parameters,acc_scorer)\n",
        "grid_obj = grid_obj.fit(x_train,y_train)"
      ],
      "execution_count": null,
      "outputs": []
    },
    {
      "cell_type": "code",
      "metadata": {
        "id": "V5HhhtQOQVoq"
      },
      "source": [
        "clf = grid_obj.best_estimator_"
      ],
      "execution_count": null,
      "outputs": []
    },
    {
      "cell_type": "code",
      "metadata": {
        "colab": {
          "base_uri": "https://localhost:8080/"
        },
        "id": "lzQrp3C1QVtW",
        "outputId": "dbfa517b-5154-4bf3-d3df-66efb6aadd5e"
      },
      "source": [
        "clf.fit(x_train,y_train)"
      ],
      "execution_count": null,
      "outputs": [
        {
          "output_type": "execute_result",
          "data": {
            "text/plain": [
              "RandomForestClassifier(bootstrap=True, ccp_alpha=0.0, class_weight=None,\n",
              "                       criterion='gini', max_depth=5, max_features='log2',\n",
              "                       max_leaf_nodes=None, max_samples=None,\n",
              "                       min_impurity_decrease=0.0, min_impurity_split=None,\n",
              "                       min_samples_leaf=1, min_samples_split=3,\n",
              "                       min_weight_fraction_leaf=0.0, n_estimators=9,\n",
              "                       n_jobs=None, oob_score=False, random_state=None,\n",
              "                       verbose=0, warm_start=False)"
            ]
          },
          "metadata": {
            "tags": []
          },
          "execution_count": 15
        }
      ]
    },
    {
      "cell_type": "code",
      "metadata": {
        "colab": {
          "base_uri": "https://localhost:8080/"
        },
        "id": "WJjY5J_7QVwh",
        "outputId": "a7dcb67b-645b-4a71-8729-e9ceecb3e9d7"
      },
      "source": [
        "predictions = clf.predict(x_test)\n",
        "print(accuracy_score(y_test,predictions))"
      ],
      "execution_count": null,
      "outputs": [
        {
          "output_type": "stream",
          "text": [
            "0.8324022346368715\n"
          ],
          "name": "stdout"
        }
      ]
    },
    {
      "cell_type": "code",
      "metadata": {
        "id": "UjdgDl7LVuAq"
      },
      "source": [],
      "execution_count": null,
      "outputs": []
    },
    {
      "cell_type": "code",
      "metadata": {
        "id": "PqASiJGmQV0W"
      },
      "source": [],
      "execution_count": null,
      "outputs": []
    },
    {
      "cell_type": "code",
      "metadata": {
        "id": "xt_HhC-nQV4O"
      },
      "source": [],
      "execution_count": null,
      "outputs": []
    },
    {
      "cell_type": "code",
      "metadata": {
        "id": "kAAZw24IQV8Y"
      },
      "source": [],
      "execution_count": null,
      "outputs": []
    },
    {
      "cell_type": "code",
      "metadata": {
        "id": "ZsFJ8_19QWAP"
      },
      "source": [],
      "execution_count": null,
      "outputs": []
    },
    {
      "cell_type": "code",
      "metadata": {
        "id": "gDUQCxu6QWER"
      },
      "source": [],
      "execution_count": null,
      "outputs": []
    },
    {
      "cell_type": "code",
      "metadata": {
        "id": "vH6oVqd-QWIc"
      },
      "source": [],
      "execution_count": null,
      "outputs": []
    },
    {
      "cell_type": "code",
      "metadata": {
        "id": "Ll-hw31VQWKc"
      },
      "source": [],
      "execution_count": null,
      "outputs": []
    },
    {
      "cell_type": "code",
      "metadata": {
        "id": "FvYj84FVQWM-"
      },
      "source": [],
      "execution_count": null,
      "outputs": []
    }
  ]
}